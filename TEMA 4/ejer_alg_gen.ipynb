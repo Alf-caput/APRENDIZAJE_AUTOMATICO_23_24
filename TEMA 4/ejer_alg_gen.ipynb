{
  "cells": [
    {
      "cell_type": "code",
      "execution_count": 18,
      "metadata": {
        "id": "-eLAN5ZFNMuk"
      },
      "outputs": [],
      "source": [
        "rand_nums = (0.05, 0.05, 0.45, 0.61, 0.26, 0.87, 0.02, 0.89, 0.61, 0.31, 0.79, 0.70,0.71, 0.69, 0.17, 0.37, 0.33, 0.49, 0.09, 0.67, 0.42, 0.41, 0.42, 0.59,0.78, 0.13, 0.46, 0.39, 0.28, 0.81, 0.84, 0.76, 0.78, 0.50, 0.71, 0.84,0.04, 0.85, 0.14, 0.06, 0.28, 0.10, 0.49, 0.76, 0.97, 0.42, 0.83, 0.87,0.80, 0.19, 0.38, 0.53, 0.57, 0.30, 0.58, 0.24, 0.23, 0.74, 0.17, 0.73,0.59, 0.92, 0.64, 0.31, 0.81, 0.69, 0.94, 0.78, 0.85, 0.69, 0.97, 0.66,0.63, 0.38, 0.05, 0.75, 0.36, 0.19, 0.94, 0.38, 0.18, 0.91, 0.69, 0.53,0.14, 0.07, 0.53, 0.56, 0.37, 0.96, 0.13, 0.78, 0.08, 0.21, 0.99, 0.71,0.29, 0.38, 0.64, 0.94, 0.87, 0.36, 0.59, 0.90, 0.19, 0.26, 0.25, 0.65,0.47, 0.01, 0.69, 0.51, 0.99, 0.96, 0.91, 0.01, 0.32, 0.58, 0.79, 0.16,0.82, 0.89, 0.14, 0.10, 0.68, 0.94, 0.36, 0.75, 0.29, 0.48, 0.52, 0.32,0.53, 0.20, 0.14, 0.32, 0.34, 0.02, 0.09, 0.71, 0.07, 0.89, 0.57, 0.52,0.71, 0.81, 0.02, 0.37, 0.57, 0.56, 0.02, 0.03, 0.03, 0.92, 0.73, 0.92,0.62, 0.79, 0.45, 0.38, 0.48, 0.32, 0.23, 0.08, 0.66, 0.95, 0.25, 0.84,0.87, 0.14, 0.80, 0.18, 0.13, 0.31, 0.91, 0.96, 0.47, 0.35, 0.82, 0.16,0.60, 0.85, 0.50, 0.84, 0.93, 0.70, 0.85, 0.55, 0.03, 0.97, 0.94, 0.93,0.14, 0.98, 0.42, 0.95, 0.51, 0.63, 0.08, 0.47, 0.07, 0.02, 0.38, 0.69,0.10, 0.65, 0.35, 0.10, 0.37, 0.94, 0.39, 0.44, 0.51, 0.86, 0.21, 0.19,0.32, 0.47, 0.98, 0.37, 0.65, 0.69, 0.74, 0.44, 0.08, 0.60, 0.04, 0.00,0.59, 0.90, 0.80, 0.12, 0.35, 0.34, 0.99, 0.09, 0.43, 0.73, 0.32, 0.47)"
      ]
    },
    {
      "cell_type": "code",
      "execution_count": 19,
      "metadata": {
        "id": "1M-Xty-oNMul"
      },
      "outputs": [],
      "source": [
        "import math\n",
        "f = lambda x: 3*x*math.exp(x)"
      ]
    },
    {
      "cell_type": "markdown",
      "metadata": {
        "id": "J3tmDsRFNMum"
      },
      "source": [
        "$(-32, 31) = (-2^{6-1}, 2^{6-1}-1)\\Rightarrow\\text{Necesitamos 6 bits}$"
      ]
    },
    {
      "cell_type": "code",
      "execution_count": 20,
      "metadata": {
        "colab": {
          "base_uri": "https://localhost:8080/"
        },
        "id": "nldoYbHTNMun",
        "outputId": "a3191fbb-4028-493a-b094-60ac0c2ef9ac"
      },
      "outputs": [
        {
          "output_type": "stream",
          "name": "stdout",
          "text": [
            "l = 6, 2*l = 12\n",
            "Nº de individuos con los que queremos trabajar:\n",
            "min([l, 2*l])=6\n"
          ]
        }
      ],
      "source": [
        "l = 6\n",
        "print(f\"l = {l}, 2*l = {2*l}\")\n",
        "n = min(range(l, 2*l+1))\n",
        "print(f'Nº de individuos con los que queremos trabajar:\\nmin([l, 2*l])={n}')"
      ]
    },
    {
      "cell_type": "markdown",
      "metadata": {
        "id": "z-i_c7HHNMuo"
      },
      "source": [
        "Definimos la clase Individuo"
      ]
    },
    {
      "cell_type": "code",
      "execution_count": 21,
      "metadata": {
        "id": "HbCZzqlMNMuo"
      },
      "outputs": [],
      "source": [
        "import itertools\n",
        "class Individuo:\n",
        "    def __init__(self, rand_num_iter=None, genotipo=None,):\n",
        "        if rand_num_iter:\n",
        "            self.genotipo = ''.join(map(str, (0 if num < 0.5 else 1 for num in itertools.islice(rand_num_iter, 6))))\n",
        "        else:\n",
        "            self.genotipo = genotipo\n",
        "\n",
        "    @property\n",
        "    def fenotipo(self):\n",
        "        decimal = int(self.genotipo, 2)\n",
        "        if decimal >= 32:\n",
        "            decimal -= 64\n",
        "        return decimal\n",
        "\n",
        "    def adaptacion(self, funcion_adaptacion):\n",
        "        return funcion_adaptacion(self.fenotipo)\n",
        "\n",
        "    def __str__(self):\n",
        "        return f'Individuo({self.genotipo})'\n",
        "\n",
        "    def __repr__(self):\n",
        "        return f'Individuo({self.genotipo})'"
      ]
    },
    {
      "cell_type": "markdown",
      "metadata": {
        "id": "4S8zcMBDNMuo"
      },
      "source": [
        "$\\text{Se obtiene la población inicial}$"
      ]
    },
    {
      "cell_type": "code",
      "execution_count": 22,
      "metadata": {
        "colab": {
          "base_uri": "https://localhost:8080/"
        },
        "id": "DaDJCHztNMuo",
        "outputId": "257a59d4-6b0a-4dc5-d274-1699c3a924b5"
      },
      "outputs": [
        {
          "output_type": "stream",
          "name": "stdout",
          "text": [
            "[Individuo(000101), Individuo(011011), Individuo(110000), Individuo(010001), Individuo(100001), Individuo(111111)]\n"
          ]
        }
      ],
      "source": [
        "rand_iter = iter(rand_nums)\n",
        "poblacion = []\n",
        "for i in range(n):\n",
        "    poblacion.append(Individuo(rand_iter))\n",
        "print(poblacion)"
      ]
    },
    {
      "cell_type": "markdown",
      "metadata": {
        "id": "wLPA2oD4NMup"
      },
      "source": [
        "Definimos el rango entre 1 y 6 a partir de su adaptacion, de forma que el mejor adaptado tiene rango 6 y el peor rango 1\\\n",
        "La probabilidad de que un individuo sea emparejado resulta de\\\n",
        "$p_{emparejar} = \\frac{rango}{\\lambda(\\lambda+1)}$\\\n",
        "Obtenemos intervalos entre 0 y 1, y dependiendo de donde caiga el número aleatorio se elige un individuo"
      ]
    },
    {
      "cell_type": "code",
      "execution_count": 23,
      "metadata": {
        "colab": {
          "base_uri": "https://localhost:8080/"
        },
        "id": "FbRYqD2DNMup",
        "outputId": "38b1dfab-4de3-45a1-a673-b001c5b22110"
      },
      "outputs": [
        {
          "output_type": "stream",
          "name": "stdout",
          "text": [
            "[Individuo(011011), Individuo(010001), Individuo(000101), Individuo(100001), Individuo(110000), Individuo(111111)]\n"
          ]
        }
      ],
      "source": [
        "# Para obtener el rango reordenamos la poblacion en función de su adaptación\n",
        "# Menor valor de la función objetivo mayor adaptación\n",
        "# La posicion i tendrá rango i+1\n",
        "poblacion.sort(reverse=True, key=lambda x: x.adaptacion(f))\n",
        "print(poblacion)"
      ]
    },
    {
      "cell_type": "markdown",
      "metadata": {
        "id": "C6nNPIh2NMup"
      },
      "source": [
        "Como la población es constante los intervalos son constantes"
      ]
    },
    {
      "cell_type": "code",
      "execution_count": 24,
      "metadata": {
        "colab": {
          "base_uri": "https://localhost:8080/"
        },
        "id": "UMc_0Jf-NMuq",
        "outputId": "2a0ff334-b00f-4253-fc18-a97ef13fda33"
      },
      "outputs": [
        {
          "output_type": "stream",
          "name": "stdout",
          "text": [
            "[(0, 0.047619047619047616), (0.047619047619047616, 0.14285714285714285), (0.14285714285714285, 0.2857142857142857), (0.2857142857142857, 0.47619047619047616), (0.47619047619047616, 0.7142857142857142), (0.7142857142857142, 1)]\n"
          ]
        }
      ],
      "source": [
        "intervalos_emparejamiento = []\n",
        "inicio = 0\n",
        "fin = inicio\n",
        "n = len(poblacion)\n",
        "for rango in range(n):\n",
        "    inicio = fin\n",
        "    fin = inicio+(rango+1)/(n*(n+1)/2)\n",
        "    if rango == n-1:\n",
        "        fin = 1\n",
        "    intervalos_emparejamiento.append((inicio, fin))\n",
        "print(intervalos_emparejamiento)"
      ]
    },
    {
      "cell_type": "code",
      "execution_count": 25,
      "metadata": {
        "colab": {
          "base_uri": "https://localhost:8080/"
        },
        "id": "N9RyynFuNMuq",
        "outputId": "5e4f79a9-17af-4823-f8e7-f96a72bda5a5"
      },
      "outputs": [
        {
          "output_type": "stream",
          "name": "stdout",
          "text": [
            "0.04 1\n",
            "0.85 6\n",
            "0.14 2\n",
            "0.06 2\n",
            "0.28 3\n",
            "0.1 2\n",
            "[(Individuo(011011), Individuo(111111)), (Individuo(010001), Individuo(010001)), (Individuo(000101), Individuo(010001))]\n"
          ]
        }
      ],
      "source": [
        "emparejamientos = []\n",
        "for num in itertools.islice(rand_iter, 6):\n",
        "    for i, intervalo in enumerate(intervalos_emparejamiento):\n",
        "        if intervalo[0] <= num and num < intervalo[1]:\n",
        "            break\n",
        "        if num == 1:\n",
        "            i = 5\n",
        "    emparejamientos.append(poblacion[i])\n",
        "    print(num, i+1)\n",
        "emparejamientos = list(zip(emparejamientos[::2], emparejamientos[1::2]))\n",
        "print(emparejamientos)"
      ]
    },
    {
      "cell_type": "markdown",
      "metadata": {
        "id": "JspB92oUNMuq"
      },
      "source": [
        "Ahora se estudia si las parejas tienen éxito y se cruzan (probabilidad = 0.7)\\\n",
        "Si el número aleatorio esta en el rango [0, 0.7) habrá emparejamiento\\\n",
        "Si esta entre [0.7, 1] no habrá emparejamiento\\"
      ]
    },
    {
      "cell_type": "code",
      "execution_count": 26,
      "metadata": {
        "colab": {
          "base_uri": "https://localhost:8080/"
        },
        "id": "drwhnwRsNMuq",
        "outputId": "0e8d0064-5a45-4a4d-a362-06b3fed66d1c"
      },
      "outputs": [
        {
          "output_type": "stream",
          "name": "stdout",
          "text": [
            "0.49 (Individuo(011011), Individuo(111111))\n",
            "0.76 (Individuo(010001), Individuo(010001))\n",
            "0.97 (Individuo(000101), Individuo(010001))\n",
            "[(Individuo(011011), Individuo(111111))]\n"
          ]
        }
      ],
      "source": [
        "emparejamientos_exitosos = []\n",
        "for emparejamiento in emparejamientos:\n",
        "    num = next(rand_iter)\n",
        "    print(num, emparejamiento)\n",
        "    if num < 0.7:\n",
        "        emparejamientos_exitosos.append(emparejamiento)\n",
        "print(emparejamientos_exitosos)"
      ]
    },
    {
      "cell_type": "markdown",
      "metadata": {
        "id": "ytQO0NqBNMur"
      },
      "source": [
        "Ahora se crean rangos de selección para saber como se crean los hijos"
      ]
    },
    {
      "cell_type": "code",
      "execution_count": 27,
      "metadata": {
        "colab": {
          "base_uri": "https://localhost:8080/"
        },
        "id": "N_qbgMbqNMur",
        "outputId": "6f08bb66-af17-4da0-b121-6b97047d63fc"
      },
      "outputs": [
        {
          "output_type": "stream",
          "name": "stdout",
          "text": [
            "[(0, 0.2), (0.2, 0.4), (0.4, 0.6000000000000001), (0.6000000000000001, 0.8), (0.8, 1.0)]\n"
          ]
        }
      ],
      "source": [
        "intervalos_cruce = []\n",
        "inicio = 0\n",
        "fin = inicio\n",
        "for corte in range(l-1):\n",
        "    inicio = fin\n",
        "    fin = inicio + 1/(l-1)\n",
        "    if corte == l-1:\n",
        "        fin = 1\n",
        "    intervalos_cruce.append((inicio, fin))\n",
        "print(intervalos_cruce)"
      ]
    },
    {
      "cell_type": "code",
      "execution_count": 28,
      "metadata": {
        "colab": {
          "base_uri": "https://localhost:8080/"
        },
        "id": "w4YLfA3yNMur",
        "outputId": "08e09c74-b37d-48ad-98fe-604a5749f26a"
      },
      "outputs": [
        {
          "output_type": "stream",
          "name": "stdout",
          "text": [
            "[Individuo(011011), Individuo(111111)]\n"
          ]
        }
      ],
      "source": [
        "hijos = []\n",
        "for pareja in emparejamientos_exitosos:\n",
        "    num = next(rand_iter)\n",
        "    for i, intervalo in enumerate(intervalos_cruce, start=1):\n",
        "        if intervalo[0] <= num and num < intervalo[1]:\n",
        "            break\n",
        "        if num == 1:\n",
        "            i = 4\n",
        "    hijo_1 = Individuo(genotipo = pareja[0].genotipo[:i+1] + pareja[1].genotipo[i+1:])\n",
        "    hijo_2 = Individuo(genotipo = pareja[1].genotipo[:i+1] + pareja[0].genotipo[i+1:])\n",
        "    hijos.append(hijo_1)\n",
        "    hijos.append(hijo_2)\n",
        "print(hijos)"
      ]
    },
    {
      "cell_type": "markdown",
      "metadata": {
        "id": "9oZU0FZuNMus"
      },
      "source": [
        "Existe una probabilidad de mutación en cada uno de los genes de los hijos en un 30%"
      ]
    },
    {
      "cell_type": "code",
      "execution_count": 29,
      "metadata": {
        "colab": {
          "base_uri": "https://localhost:8080/"
        },
        "id": "HlBlqKweNMus",
        "outputId": "1e05523f-4e67-4948-c0df-2bf095be6f01"
      },
      "outputs": [
        {
          "output_type": "stream",
          "name": "stdout",
          "text": [
            "[Individuo(011011), Individuo(111111)]\n",
            "- 0.83\n",
            "- 0.87\n",
            "- 0.8\n",
            "1 0.19\n",
            "- 0.38\n",
            "- 0.53\n",
            "- 0.57\n",
            "- 0.3\n",
            "- 0.58\n",
            "0 0.24\n",
            "0 0.23\n",
            "- 0.74\n",
            "[Individuo(011111), Individuo(111001)]\n"
          ]
        }
      ],
      "source": [
        "print(hijos)\n",
        "for hijo in hijos:\n",
        "    for i in range(len(hijo.genotipo)):\n",
        "        num = next(rand_iter)\n",
        "        gen = '-'\n",
        "        if num < 0.3:\n",
        "            if hijo.genotipo[i] == '0':\n",
        "                gen = '1'\n",
        "            else:\n",
        "                gen = '0'\n",
        "            hijo.genotipo = hijo.genotipo[:i] + gen + hijo.genotipo[i+1:]\n",
        "        print(gen, num)\n",
        "\n",
        "print(hijos)"
      ]
    },
    {
      "cell_type": "markdown",
      "metadata": {
        "id": "eErI6enzNMus"
      },
      "source": [
        "Una vez se han creado los hijos se añaden a la población\\\n",
        "Como nos dicen que el tamaño población es constante eliminamos los individuos de la población peor adaptados"
      ]
    },
    {
      "cell_type": "code",
      "execution_count": 30,
      "metadata": {
        "colab": {
          "base_uri": "https://localhost:8080/"
        },
        "id": "sSHtawTuNMus",
        "outputId": "93ef97e5-08e6-4dc8-d490-7770d12b4be5"
      },
      "outputs": [
        {
          "output_type": "stream",
          "name": "stdout",
          "text": [
            "[Individuo(010001), Individuo(000101), Individuo(100001), Individuo(110000), Individuo(111001), Individuo(111111)]\n"
          ]
        }
      ],
      "source": [
        "[poblacion.append(hijo) for hijo in hijos]\n",
        "poblacion.sort(reverse=True, key=lambda x: x.adaptacion(f))\n",
        "while len(poblacion) > 6:\n",
        "    del poblacion[0]\n",
        "print(poblacion)"
      ]
    },
    {
      "cell_type": "code",
      "source": [
        "a = [1, 2, 3, 4]\n",
        "a[0:0]"
      ],
      "metadata": {
        "colab": {
          "base_uri": "https://localhost:8080/"
        },
        "id": "NL7LONIRO-Zg",
        "outputId": "bd061dce-95d6-4bea-f01e-d4e81092aa7d"
      },
      "execution_count": 31,
      "outputs": [
        {
          "output_type": "execute_result",
          "data": {
            "text/plain": [
              "[]"
            ]
          },
          "metadata": {},
          "execution_count": 31
        }
      ]
    },
    {
      "cell_type": "markdown",
      "source": [
        "Importante:\n",
        "- Los hijos entran siempre en la población, se hace criba de los padres.\n",
        "- Los intervalos pueden estar marcadas por el orden."
      ],
      "metadata": {
        "id": "CQYyAc4rWc7l"
      }
    },
    {
      "cell_type": "code",
      "source": [],
      "metadata": {
        "id": "BXP7HlZFZBk6"
      },
      "execution_count": null,
      "outputs": []
    }
  ],
  "metadata": {
    "kernelspec": {
      "display_name": "Python 3",
      "language": "python",
      "name": "python3"
    },
    "language_info": {
      "codemirror_mode": {
        "name": "ipython",
        "version": 3
      },
      "file_extension": ".py",
      "mimetype": "text/x-python",
      "name": "python",
      "nbconvert_exporter": "python",
      "pygments_lexer": "ipython3",
      "version": "3.11.4"
    },
    "colab": {
      "provenance": []
    }
  },
  "nbformat": 4,
  "nbformat_minor": 0
}